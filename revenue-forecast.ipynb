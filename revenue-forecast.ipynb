{
  "nbformat": 4,
  "nbformat_minor": 0,
  "metadata": {
    "colab": {
      "name": "Forecasting Daily Revenue for Havaianas.ipynb",
      "provenance": [],
      "collapsed_sections": []
    },
    "kernelspec": {
      "name": "python3",
      "display_name": "Python 3"
    },
    "language_info": {
      "name": "python"
    }
  },
  "cells": [
    {
      "cell_type": "markdown",
      "source": [
        "# Forecasting Daily Revenue in Havaiianas, ION Orchard Singapore\n",
        "\n",
        "Notebook prepared by Dominic Dayta for Aroodai and Lean Retail Labs"
      ],
      "metadata": {
        "id": "Z7pBLXOdiylE"
      }
    },
    {
      "cell_type": "code",
      "source": [
        "!pip install statsmodels==0.12.1\n",
        "!pip install arch\n",
        "!pip install xlrd==1.2.0"
      ],
      "metadata": {
        "colab": {
          "base_uri": "https://localhost:8080/",
          "height": 399
        },
        "id": "r3QjBnVKWXuj",
        "outputId": "90fe7599-7554-496a-a79c-2364d6272698"
      },
      "execution_count": 6,
      "outputs": [
        {
          "output_type": "stream",
          "name": "stdout",
          "text": [
            "Looking in indexes: https://pypi.org/simple, https://us-python.pkg.dev/colab-wheels/public/simple/\n",
            "Collecting statsmodels==0.12.1\n",
            "  Downloading statsmodels-0.12.1-cp37-cp37m-manylinux1_x86_64.whl (9.5 MB)\n",
            "\u001b[K     |████████████████████████████████| 9.5 MB 13.5 MB/s \n",
            "\u001b[?25hRequirement already satisfied: scipy>=1.1 in /usr/local/lib/python3.7/dist-packages (from statsmodels==0.12.1) (1.7.3)\n",
            "Requirement already satisfied: pandas>=0.21 in /usr/local/lib/python3.7/dist-packages (from statsmodels==0.12.1) (1.3.5)\n",
            "Requirement already satisfied: numpy>=1.15 in /usr/local/lib/python3.7/dist-packages (from statsmodels==0.12.1) (1.21.6)\n",
            "Requirement already satisfied: patsy>=0.5 in /usr/local/lib/python3.7/dist-packages (from statsmodels==0.12.1) (0.5.2)\n",
            "Requirement already satisfied: python-dateutil>=2.7.3 in /usr/local/lib/python3.7/dist-packages (from pandas>=0.21->statsmodels==0.12.1) (2.8.2)\n",
            "Requirement already satisfied: pytz>=2017.3 in /usr/local/lib/python3.7/dist-packages (from pandas>=0.21->statsmodels==0.12.1) (2022.1)\n",
            "Requirement already satisfied: six in /usr/local/lib/python3.7/dist-packages (from patsy>=0.5->statsmodels==0.12.1) (1.15.0)\n",
            "Installing collected packages: statsmodels\n",
            "  Attempting uninstall: statsmodels\n",
            "    Found existing installation: statsmodels 0.10.2\n",
            "    Uninstalling statsmodels-0.10.2:\n",
            "      Successfully uninstalled statsmodels-0.10.2\n",
            "Successfully installed statsmodels-0.12.1\n"
          ]
        },
        {
          "output_type": "display_data",
          "data": {
            "application/vnd.colab-display-data+json": {
              "pip_warning": {
                "packages": [
                  "statsmodels"
                ]
              }
            }
          },
          "metadata": {}
        }
      ]
    },
    {
      "cell_type": "code",
      "source": [
        "import datetime\n",
        "\n",
        "\n",
        "import pandas as pd\n",
        "import numpy as np\n",
        "import matplotlib.pyplot as plt\n",
        "import seaborn as sns\n",
        "\n",
        "from scipy import stats\n",
        "import statsmodels.api as sm\n",
        "from statsmodels.graphics.tsaplots import plot_acf, plot_pacf\n",
        "from statsmodels.stats.diagnostic import het_arch\n",
        "from statsmodels.tsa.arima.model import ARIMA\n",
        "\n",
        "from arch import arch_model\n",
        "\n",
        "\n",
        "# some basic plot parameters\n",
        "sns.set_style('darkgrid')\n",
        "plt.rc('axes', titlesize=18)\n",
        "plt.rc('axes', labelsize=14)\n",
        "plt.rc('xtick', labelsize=13)\n",
        "plt.rc('ytick', labelsize=13)\n",
        "plt.rc('font', size = 13)"
      ],
      "metadata": {
        "id": "K5ygK-3zn6ul"
      },
      "execution_count": 1,
      "outputs": []
    },
    {
      "cell_type": "markdown",
      "source": [
        "The following notebook makes use of the cleaned sales dashboard data obtained from the ION Orchard store. Data covers information on daily sales, revenue, profits, conversion and other similar retail statistics every day, from Monday, January 1, 2018, to Sunday, July 29 of the same year."
      ],
      "metadata": {
        "id": "4EGyddf8jCCs"
      }
    },
    {
      "cell_type": "code",
      "execution_count": 13,
      "metadata": {
        "colab": {
          "base_uri": "https://localhost:8080/",
          "height": 386
        },
        "id": "u0d7tLxOnyA5",
        "outputId": "bfce6ac3-2967-4d3d-af58-fea5282c53ae"
      },
      "outputs": [
        {
          "output_type": "execute_result",
          "data": {
            "text/plain": [
              "    week_day       date  revenue  units_sold  num_transactions  basket_size  \\\n",
              "0     Monday 2018-01-01  5668.30       143.0             110.0     1.300000   \n",
              "1    Tuesday 2018-01-02  2662.10        73.0              61.0     1.196721   \n",
              "2  Wednesday 2018-01-03  2759.30        74.0              72.0     1.027778   \n",
              "3   Thursday 2018-01-04  1784.24        31.0              38.0     0.815789   \n",
              "4     Friday 2018-01-05  3375.66        72.0              62.0     1.161290   \n",
              "\n",
              "   avg_transaction_value  avg_unit_value  total_discount  discount_pct  ...  \\\n",
              "0              51.530000       39.638462           100.0      0.017336  ...   \n",
              "1              43.640984       36.467123           100.0      0.036204  ...   \n",
              "2              38.323611       37.287838           100.0      0.034974  ...   \n",
              "3              46.953684       57.556129           100.0      0.053072  ...   \n",
              "4              54.446129       46.884167           100.0      0.028772  ...   \n",
              "\n",
              "   click_collect  online_to_offline_returns  try_non_buy  showroomers  \\\n",
              "0            NaN                        NaN          NaN          NaN   \n",
              "1            NaN                        NaN          NaN          NaN   \n",
              "2            NaN                        NaN          NaN          NaN   \n",
              "3            NaN                        NaN          NaN          NaN   \n",
              "4            NaN                        NaN          NaN          NaN   \n",
              "\n",
              "   offline_purchase_from_offline_marketing  unnamed_8  price_topseller  \\\n",
              "0                                      NaN        NaN              NaN   \n",
              "1                                      NaN        NaN              NaN   \n",
              "2                                      NaN        NaN              NaN   \n",
              "3                                      NaN        NaN              NaN   \n",
              "4                                      NaN        NaN              NaN   \n",
              "\n",
              "   compete_price_topseller  compete_num_followers  compete_range_assort  \n",
              "0                      NaN                    NaN                   NaN  \n",
              "1                      NaN                    NaN                   NaN  \n",
              "2                      NaN                    NaN                   NaN  \n",
              "3                      NaN                    NaN                   NaN  \n",
              "4                      NaN                    NaN                   NaN  \n",
              "\n",
              "[5 rows x 99 columns]"
            ],
            "text/html": [
              "\n",
              "  <div id=\"df-20cf8675-d625-4705-840a-6f40fd00d6cb\">\n",
              "    <div class=\"colab-df-container\">\n",
              "      <div>\n",
              "<style scoped>\n",
              "    .dataframe tbody tr th:only-of-type {\n",
              "        vertical-align: middle;\n",
              "    }\n",
              "\n",
              "    .dataframe tbody tr th {\n",
              "        vertical-align: top;\n",
              "    }\n",
              "\n",
              "    .dataframe thead th {\n",
              "        text-align: right;\n",
              "    }\n",
              "</style>\n",
              "<table border=\"1\" class=\"dataframe\">\n",
              "  <thead>\n",
              "    <tr style=\"text-align: right;\">\n",
              "      <th></th>\n",
              "      <th>week_day</th>\n",
              "      <th>date</th>\n",
              "      <th>revenue</th>\n",
              "      <th>units_sold</th>\n",
              "      <th>num_transactions</th>\n",
              "      <th>basket_size</th>\n",
              "      <th>avg_transaction_value</th>\n",
              "      <th>avg_unit_value</th>\n",
              "      <th>total_discount</th>\n",
              "      <th>discount_pct</th>\n",
              "      <th>...</th>\n",
              "      <th>click_collect</th>\n",
              "      <th>online_to_offline_returns</th>\n",
              "      <th>try_non_buy</th>\n",
              "      <th>showroomers</th>\n",
              "      <th>offline_purchase_from_offline_marketing</th>\n",
              "      <th>unnamed_8</th>\n",
              "      <th>price_topseller</th>\n",
              "      <th>compete_price_topseller</th>\n",
              "      <th>compete_num_followers</th>\n",
              "      <th>compete_range_assort</th>\n",
              "    </tr>\n",
              "  </thead>\n",
              "  <tbody>\n",
              "    <tr>\n",
              "      <th>0</th>\n",
              "      <td>Monday</td>\n",
              "      <td>2018-01-01</td>\n",
              "      <td>5668.30</td>\n",
              "      <td>143.0</td>\n",
              "      <td>110.0</td>\n",
              "      <td>1.300000</td>\n",
              "      <td>51.530000</td>\n",
              "      <td>39.638462</td>\n",
              "      <td>100.0</td>\n",
              "      <td>0.017336</td>\n",
              "      <td>...</td>\n",
              "      <td>NaN</td>\n",
              "      <td>NaN</td>\n",
              "      <td>NaN</td>\n",
              "      <td>NaN</td>\n",
              "      <td>NaN</td>\n",
              "      <td>NaN</td>\n",
              "      <td>NaN</td>\n",
              "      <td>NaN</td>\n",
              "      <td>NaN</td>\n",
              "      <td>NaN</td>\n",
              "    </tr>\n",
              "    <tr>\n",
              "      <th>1</th>\n",
              "      <td>Tuesday</td>\n",
              "      <td>2018-01-02</td>\n",
              "      <td>2662.10</td>\n",
              "      <td>73.0</td>\n",
              "      <td>61.0</td>\n",
              "      <td>1.196721</td>\n",
              "      <td>43.640984</td>\n",
              "      <td>36.467123</td>\n",
              "      <td>100.0</td>\n",
              "      <td>0.036204</td>\n",
              "      <td>...</td>\n",
              "      <td>NaN</td>\n",
              "      <td>NaN</td>\n",
              "      <td>NaN</td>\n",
              "      <td>NaN</td>\n",
              "      <td>NaN</td>\n",
              "      <td>NaN</td>\n",
              "      <td>NaN</td>\n",
              "      <td>NaN</td>\n",
              "      <td>NaN</td>\n",
              "      <td>NaN</td>\n",
              "    </tr>\n",
              "    <tr>\n",
              "      <th>2</th>\n",
              "      <td>Wednesday</td>\n",
              "      <td>2018-01-03</td>\n",
              "      <td>2759.30</td>\n",
              "      <td>74.0</td>\n",
              "      <td>72.0</td>\n",
              "      <td>1.027778</td>\n",
              "      <td>38.323611</td>\n",
              "      <td>37.287838</td>\n",
              "      <td>100.0</td>\n",
              "      <td>0.034974</td>\n",
              "      <td>...</td>\n",
              "      <td>NaN</td>\n",
              "      <td>NaN</td>\n",
              "      <td>NaN</td>\n",
              "      <td>NaN</td>\n",
              "      <td>NaN</td>\n",
              "      <td>NaN</td>\n",
              "      <td>NaN</td>\n",
              "      <td>NaN</td>\n",
              "      <td>NaN</td>\n",
              "      <td>NaN</td>\n",
              "    </tr>\n",
              "    <tr>\n",
              "      <th>3</th>\n",
              "      <td>Thursday</td>\n",
              "      <td>2018-01-04</td>\n",
              "      <td>1784.24</td>\n",
              "      <td>31.0</td>\n",
              "      <td>38.0</td>\n",
              "      <td>0.815789</td>\n",
              "      <td>46.953684</td>\n",
              "      <td>57.556129</td>\n",
              "      <td>100.0</td>\n",
              "      <td>0.053072</td>\n",
              "      <td>...</td>\n",
              "      <td>NaN</td>\n",
              "      <td>NaN</td>\n",
              "      <td>NaN</td>\n",
              "      <td>NaN</td>\n",
              "      <td>NaN</td>\n",
              "      <td>NaN</td>\n",
              "      <td>NaN</td>\n",
              "      <td>NaN</td>\n",
              "      <td>NaN</td>\n",
              "      <td>NaN</td>\n",
              "    </tr>\n",
              "    <tr>\n",
              "      <th>4</th>\n",
              "      <td>Friday</td>\n",
              "      <td>2018-01-05</td>\n",
              "      <td>3375.66</td>\n",
              "      <td>72.0</td>\n",
              "      <td>62.0</td>\n",
              "      <td>1.161290</td>\n",
              "      <td>54.446129</td>\n",
              "      <td>46.884167</td>\n",
              "      <td>100.0</td>\n",
              "      <td>0.028772</td>\n",
              "      <td>...</td>\n",
              "      <td>NaN</td>\n",
              "      <td>NaN</td>\n",
              "      <td>NaN</td>\n",
              "      <td>NaN</td>\n",
              "      <td>NaN</td>\n",
              "      <td>NaN</td>\n",
              "      <td>NaN</td>\n",
              "      <td>NaN</td>\n",
              "      <td>NaN</td>\n",
              "      <td>NaN</td>\n",
              "    </tr>\n",
              "  </tbody>\n",
              "</table>\n",
              "<p>5 rows × 99 columns</p>\n",
              "</div>\n",
              "      <button class=\"colab-df-convert\" onclick=\"convertToInteractive('df-20cf8675-d625-4705-840a-6f40fd00d6cb')\"\n",
              "              title=\"Convert this dataframe to an interactive table.\"\n",
              "              style=\"display:none;\">\n",
              "        \n",
              "  <svg xmlns=\"http://www.w3.org/2000/svg\" height=\"24px\"viewBox=\"0 0 24 24\"\n",
              "       width=\"24px\">\n",
              "    <path d=\"M0 0h24v24H0V0z\" fill=\"none\"/>\n",
              "    <path d=\"M18.56 5.44l.94 2.06.94-2.06 2.06-.94-2.06-.94-.94-2.06-.94 2.06-2.06.94zm-11 1L8.5 8.5l.94-2.06 2.06-.94-2.06-.94L8.5 2.5l-.94 2.06-2.06.94zm10 10l.94 2.06.94-2.06 2.06-.94-2.06-.94-.94-2.06-.94 2.06-2.06.94z\"/><path d=\"M17.41 7.96l-1.37-1.37c-.4-.4-.92-.59-1.43-.59-.52 0-1.04.2-1.43.59L10.3 9.45l-7.72 7.72c-.78.78-.78 2.05 0 2.83L4 21.41c.39.39.9.59 1.41.59.51 0 1.02-.2 1.41-.59l7.78-7.78 2.81-2.81c.8-.78.8-2.07 0-2.86zM5.41 20L4 18.59l7.72-7.72 1.47 1.35L5.41 20z\"/>\n",
              "  </svg>\n",
              "      </button>\n",
              "      \n",
              "  <style>\n",
              "    .colab-df-container {\n",
              "      display:flex;\n",
              "      flex-wrap:wrap;\n",
              "      gap: 12px;\n",
              "    }\n",
              "\n",
              "    .colab-df-convert {\n",
              "      background-color: #E8F0FE;\n",
              "      border: none;\n",
              "      border-radius: 50%;\n",
              "      cursor: pointer;\n",
              "      display: none;\n",
              "      fill: #1967D2;\n",
              "      height: 32px;\n",
              "      padding: 0 0 0 0;\n",
              "      width: 32px;\n",
              "    }\n",
              "\n",
              "    .colab-df-convert:hover {\n",
              "      background-color: #E2EBFA;\n",
              "      box-shadow: 0px 1px 2px rgba(60, 64, 67, 0.3), 0px 1px 3px 1px rgba(60, 64, 67, 0.15);\n",
              "      fill: #174EA6;\n",
              "    }\n",
              "\n",
              "    [theme=dark] .colab-df-convert {\n",
              "      background-color: #3B4455;\n",
              "      fill: #D2E3FC;\n",
              "    }\n",
              "\n",
              "    [theme=dark] .colab-df-convert:hover {\n",
              "      background-color: #434B5C;\n",
              "      box-shadow: 0px 1px 3px 1px rgba(0, 0, 0, 0.15);\n",
              "      filter: drop-shadow(0px 1px 2px rgba(0, 0, 0, 0.3));\n",
              "      fill: #FFFFFF;\n",
              "    }\n",
              "  </style>\n",
              "\n",
              "      <script>\n",
              "        const buttonEl =\n",
              "          document.querySelector('#df-20cf8675-d625-4705-840a-6f40fd00d6cb button.colab-df-convert');\n",
              "        buttonEl.style.display =\n",
              "          google.colab.kernel.accessAllowed ? 'block' : 'none';\n",
              "\n",
              "        async function convertToInteractive(key) {\n",
              "          const element = document.querySelector('#df-20cf8675-d625-4705-840a-6f40fd00d6cb');\n",
              "          const dataTable =\n",
              "            await google.colab.kernel.invokeFunction('convertToInteractive',\n",
              "                                                     [key], {});\n",
              "          if (!dataTable) return;\n",
              "\n",
              "          const docLinkHtml = 'Like what you see? Visit the ' +\n",
              "            '<a target=\"_blank\" href=https://colab.research.google.com/notebooks/data_table.ipynb>data table notebook</a>'\n",
              "            + ' to learn more about interactive tables.';\n",
              "          element.innerHTML = '';\n",
              "          dataTable['output_type'] = 'display_data';\n",
              "          await google.colab.output.renderOutput(dataTable, element);\n",
              "          const docLink = document.createElement('div');\n",
              "          docLink.innerHTML = docLinkHtml;\n",
              "          element.appendChild(docLink);\n",
              "        }\n",
              "      </script>\n",
              "    </div>\n",
              "  </div>\n",
              "  "
            ]
          },
          "metadata": {},
          "execution_count": 13
        }
      ],
      "source": [
        "dashboard_df = pd.read_excel (r'/content/drive/MyDrive/Colab Notebooks/Data Science For Retail/Data Files/Cleaned/dashboard.xls')\n",
        "dashboard_df.drop(dashboard_df.tail(4).index,inplace=True)\n",
        "\n",
        "dashboard_df.head()"
      ]
    },
    {
      "cell_type": "markdown",
      "source": [
        "For testing purposes, we will be hiding the latest record in the data. Our goal is to test if we will be able to \"forecast\" this hidden value by making use of the remaining records."
      ],
      "metadata": {
        "id": "sDAl8LIfXiDn"
      }
    },
    {
      "cell_type": "code",
      "source": [
        "test_data = dashboard_df.tail(1)\n",
        "\n",
        "dashboard_df.drop(dashboard_df.tail(1).index,inplace=True)"
      ],
      "metadata": {
        "id": "GXe8NBJOXhfz"
      },
      "execution_count": 14,
      "outputs": []
    },
    {
      "cell_type": "markdown",
      "source": [
        "## Daily Revenue in Havaianas, ION Orchard"
      ],
      "metadata": {
        "id": "laS5yIGJuQT0"
      }
    },
    {
      "cell_type": "markdown",
      "source": [
        "The following line plot shows the recorded daily revenue in the Havaiianas ION Orchard store. We wish to create a model that allows us to take into account this historical revenue and create a forecast that will allow management to plan ahead (i.e., manpower assignment, targets, etc).\n",
        "\n",
        "One interesting feature we see in this plot is a sudden spike in revenue around May to June of 2018. This period with clsutered spikes usually suggests a conditional heteroskedasticity in the data, which at this point hints at our using a GARCH model for producing the forecast."
      ],
      "metadata": {
        "id": "zAn2ZnoxlIDr"
      }
    },
    {
      "cell_type": "code",
      "source": [
        "dashboard_df.plot(x = \"date\", y = \"revenue\", color = sns.color_palette('Set2')[3])"
      ],
      "metadata": {
        "colab": {
          "base_uri": "https://localhost:8080/",
          "height": 318
        },
        "id": "DbqUNzlNxKfA",
        "outputId": "45518528-27e8-454e-c811-92ae0f601c04"
      },
      "execution_count": 15,
      "outputs": [
        {
          "output_type": "execute_result",
          "data": {
            "text/plain": [
              "<matplotlib.axes._subplots.AxesSubplot at 0x7fd932ff40d0>"
            ]
          },
          "metadata": {},
          "execution_count": 15
        },
        {
          "output_type": "display_data",
          "data": {
            "text/plain": [
              "<Figure size 432x288 with 1 Axes>"
            ],
            "image/png": "[encoded data removed]"
          },
          "metadata": {
            "needs_background": "light"
          }
        }
      ]
    },
    {
      "cell_type": "markdown",
      "source": [
        "## Manual Approaches"
      ],
      "metadata": {
        "id": "pWaWMqQGVEto"
      }
    },
    {
      "cell_type": "markdown",
      "source": [
        "One common approach which we may consider as statistically simplistic - though not at all invalid - is to simply obtain an average of the most recent data points. For instance, we may instead obtain the average of the last 10 days."
      ],
      "metadata": {
        "id": "o-8sjEV3VI22"
      }
    },
    {
      "cell_type": "code",
      "source": [
        "simple_forecast = dashboard_df.tail(10).revenue.mean()\n",
        "simple_forecast"
      ],
      "metadata": {
        "colab": {
          "base_uri": "https://localhost:8080/"
        },
        "id": "AMTEkAS9VoLp",
        "outputId": "456bb295-2f82-45f3-a924-16c09278f3df"
      },
      "execution_count": 18,
      "outputs": [
        {
          "output_type": "execute_result",
          "data": {
            "text/plain": [
              "2792.06"
            ]
          },
          "metadata": {},
          "execution_count": 18
        }
      ]
    },
    {
      "cell_type": "markdown",
      "source": [
        "This value is actually quite far from the \"correct\" value that we hid from the data. The correct revenue value should have been"
      ],
      "metadata": {
        "id": "8Pyw6MhfZEkz"
      }
    },
    {
      "cell_type": "code",
      "source": [
        "test_data.revenue"
      ],
      "metadata": {
        "colab": {
          "base_uri": "https://localhost:8080/"
        },
        "id": "j_CwnQZ7ZLDA",
        "outputId": "c4f9595f-2d37-4129-ff46-64fc51542e5a"
      },
      "execution_count": 21,
      "outputs": [
        {
          "output_type": "execute_result",
          "data": {
            "text/plain": [
              "209    4099.7\n",
              "Name: revenue, dtype: float64"
            ]
          },
          "metadata": {},
          "execution_count": 21
        }
      ]
    },
    {
      "cell_type": "markdown",
      "source": [
        "For the purpose of comparison, we can make use of a metric called the Mean Absolute Percentage Error (MAPE), which gives us a value (in percentage) of how far off we are from the correct value. We notice that we are almost 32% too far away from the correct value of the next day revenue."
      ],
      "metadata": {
        "id": "ptqc-s2qZMec"
      }
    },
    {
      "cell_type": "code",
      "source": [
        "np.absolute((simple_forecast - test_data.revenue)/test_data.revenue)"
      ],
      "metadata": {
        "colab": {
          "base_uri": "https://localhost:8080/"
        },
        "id": "SQQt5ZGkYWZX",
        "outputId": "92b8760c-497d-4c35-c321-f70e690de474"
      },
      "execution_count": 20,
      "outputs": [
        {
          "output_type": "execute_result",
          "data": {
            "text/plain": [
              "209    0.31896\n",
              "Name: revenue, dtype: float64"
            ]
          },
          "metadata": {},
          "execution_count": 20
        }
      ]
    },
    {
      "cell_type": "markdown",
      "source": [
        "Is it possible to design a better forecast for the following day's revenue? Our argument is that the simple averaging method fails to take into account the pattern of daily revenue observed in the data. We will go into more detail regarding this \"pattern\", but for now we introduce our preferred model of choice for making a better revenue forecast."
      ],
      "metadata": {
        "id": "QaizAAMCZbqz"
      }
    },
    {
      "cell_type": "markdown",
      "source": [
        "## Modeling ARIMA"
      ],
      "metadata": {
        "id": "xikPc55-Ntrk"
      }
    },
    {
      "cell_type": "markdown",
      "source": [
        "We come back to the plot we showed earlier. We note that there are periods where revenue experiences large spikes, for instance during May and June 2018. At the same time this is surrounded by periods wherein the fluctuations are much closer to each other. In statistical terms, this periods of low fluctuations follow by brief periods of large spikes is called a \"heteroskedasticity\"."
      ],
      "metadata": {
        "id": "nsBLAF7lZ12v"
      }
    },
    {
      "cell_type": "code",
      "source": [
        "dashboard_df.plot(x = \"date\", y = \"revenue\", color = sns.color_palette('Set2')[3])"
      ],
      "metadata": {
        "colab": {
          "base_uri": "https://localhost:8080/",
          "height": 318
        },
        "id": "1yh4LMXSaMqV",
        "outputId": "f2eaad28-f602-44e5-b7e1-084095ea878a"
      },
      "execution_count": 22,
      "outputs": [
        {
          "output_type": "execute_result",
          "data": {
            "text/plain": [
              "<matplotlib.axes._subplots.AxesSubplot at 0x7fd932fbb490>"
            ]
          },
          "metadata": {},
          "execution_count": 22
        },
        {
          "output_type": "display_data",
          "data": {
            "text/plain": [
              "<Figure size 432x288 with 1 Axes>"
            ],
            "image/png": "[encoded data removed]"
          },
          "metadata": {
            "needs_background": "light"
          }
        }
      ]
    },
    {
      "cell_type": "markdown",
      "source": [
        "The averaging method ignores these heteroskedasticities and assumes that variances are uniform throughout all the periods being averaged. In contrast, a GARCH (Generalized Autoregressive Conditional Heteroskedasticity) model will be able to take into account this behavior of the variances."
      ],
      "metadata": {
        "id": "Syj5-tw6aOXx"
      }
    },
    {
      "cell_type": "markdown",
      "source": [
        "Prior to creating the GARCH model, we first create an ARIMA (Autoregressive Integrated Moving Average) model to account for the progression of the average daily revenue. The ARIMA model has two key components: autoregression (meaning that the expected revenue depends on expected revenue from the previous days) and the moving average model (meaning that fluctuations or error terms are correlated with error terms from the previous days).\n",
        "\n",
        "To identify the level of autoregression and autocorrelation, we look into the autocorrelation and partial autocorrelation plots."
      ],
      "metadata": {
        "id": "jOAOawZaKjNq"
      }
    },
    {
      "cell_type": "code",
      "source": [
        "dashboard2 = dashboard_df[[\"revenue\",\"date\"]].dropna()\n",
        "series = dashboard2[\"revenue\"]"
      ],
      "metadata": {
        "id": "Pzpqh_Mf0Mfz"
      },
      "execution_count": 23,
      "outputs": []
    },
    {
      "cell_type": "code",
      "source": [
        "plot_acf(series)"
      ],
      "metadata": {
        "colab": {
          "base_uri": "https://localhost:8080/",
          "height": 559
        },
        "id": "0HbFBg5_5pqf",
        "outputId": "64728ce6-2dd8-4a19-bfd4-1d88f2de3592"
      },
      "execution_count": 24,
      "outputs": [
        {
          "output_type": "execute_result",
          "data": {
            "text/plain": [
              "<Figure size 432x288 with 1 Axes>"
            ],
            "image/png": "[encoded data removed]"
          },
          "metadata": {},
          "execution_count": 24
        },
        {
          "output_type": "display_data",
          "data": {
            "text/plain": [
              "<Figure size 432x288 with 1 Axes>"
            ],
            "image/png": "[encoded data removed]"
          },
          "metadata": {
            "needs_background": "light"
          }
        }
      ]
    },
    {
      "cell_type": "code",
      "source": [
        "plot_pacf(series)"
      ],
      "metadata": {
        "colab": {
          "base_uri": "https://localhost:8080/",
          "height": 559
        },
        "id": "xTUxH9UZ5rnz",
        "outputId": "db975dbd-55fe-4545-b7d2-664f0370029d"
      },
      "execution_count": 25,
      "outputs": [
        {
          "output_type": "execute_result",
          "data": {
            "text/plain": [
              "<Figure size 432x288 with 1 Axes>"
            ],
            "image/png": "[encoded data removed]"
          },
          "metadata": {},
          "execution_count": 25
        },
        {
          "output_type": "display_data",
          "data": {
            "text/plain": [
              "<Figure size 432x288 with 1 Axes>"
            ],
            "image/png": "[encoded data removed]"
          },
          "metadata": {
            "needs_background": "light"
          }
        }
      ]
    },
    {
      "cell_type": "markdown",
      "source": [
        "Significant spikes in the first period with significant correlation in the ACF/PACF plots suggest either an AR(1) or an MA(1) model. We model first the MA(1) model and see the resulting fit."
      ],
      "metadata": {
        "id": "hfUYWEz5LHMQ"
      }
    },
    {
      "cell_type": "code",
      "source": [
        "arima_model = ARIMA(series, order = (0,0,2))\n",
        "arima_fit = arima_model.fit()"
      ],
      "metadata": {
        "id": "81jyqRTb_nii"
      },
      "execution_count": 55,
      "outputs": []
    },
    {
      "cell_type": "code",
      "source": [
        "print(arima_fit.summary())"
      ],
      "metadata": {
        "colab": {
          "base_uri": "https://localhost:8080/"
        },
        "id": "vlxiotQt_0ng",
        "outputId": "a2f6f9fc-cdb6-4c7b-e790-d39b43302df8"
      },
      "execution_count": 56,
      "outputs": [
        {
          "output_type": "stream",
          "name": "stdout",
          "text": [
            "                               SARIMAX Results                                \n",
            "==============================================================================\n",
            "Dep. Variable:                revenue   No. Observations:                  209\n",
            "Model:                 ARIMA(0, 0, 2)   Log Likelihood               -1829.316\n",
            "Date:                Wed, 03 Aug 2022   AIC                           3666.632\n",
            "Time:                        16:02:32   BIC                           3680.002\n",
            "Sample:                             0   HQIC                          3672.038\n",
            "                                - 209                                         \n",
            "Covariance Type:                  opg                                         \n",
            "==============================================================================\n",
            "                 coef    std err          z      P>|z|      [0.025      0.975]\n",
            "------------------------------------------------------------------------------\n",
            "const       3248.4354    263.861     12.311      0.000    2731.277    3765.594\n",
            "ma.L1          0.5426      0.052     10.447      0.000       0.441       0.644\n",
            "ma.L2          0.1550      0.064      2.431      0.015       0.030       0.280\n",
            "sigma2      2.456e+06   1.93e+05     12.700      0.000    2.08e+06    2.84e+06\n",
            "===================================================================================\n",
            "Ljung-Box (L1) (Q):                   0.01   Jarque-Bera (JB):               209.53\n",
            "Prob(Q):                              0.93   Prob(JB):                         0.00\n",
            "Heteroskedasticity (H):               1.70   Skew:                             1.41\n",
            "Prob(H) (two-sided):                  0.03   Kurtosis:                         7.02\n",
            "===================================================================================\n",
            "\n",
            "Warnings:\n",
            "[1] Covariance matrix calculated using the outer product of gradients (complex-step).\n"
          ]
        }
      ]
    },
    {
      "cell_type": "markdown",
      "source": [
        "The above model suggests that there is a significant autocorrelation in the error terms that must be taken into account. The revenue at time $t$ can be expressed as\n",
        "\n",
        "$$\n",
        "rev_t = 3248.4354 + \\varepsilon_t + 0.5426 \\varepsilon_{t-1}  + 0.1550 \\varepsilon_{t-1}\n",
        "$$\n",
        "\n",
        "This means that on average, revenue tends to fluctuate around an average of 3248.4354 per day, adjusted by 0.5426 for each 1 unit fluctuation from the previous time period ($\\varepsilon_{t-1}$), and 0.1550 from the time period after that ($\\varepsilon_{t-2}$). Other AR or MA terms may be needed for this model, and to check for this, we look into the resulting ACF/PACF plot of the residual series $\\varepsilon_t$."
      ],
      "metadata": {
        "id": "I-XA4Qn-LRdR"
      }
    },
    {
      "cell_type": "code",
      "source": [
        "arima_resid = arima_fit.resid\n",
        "\n",
        "plot_acf(arima_resid)"
      ],
      "metadata": {
        "colab": {
          "base_uri": "https://localhost:8080/",
          "height": 559
        },
        "id": "4alMb7CZ9OTP",
        "outputId": "d44440c1-87cc-44d6-ead8-c7bf358dd38a"
      },
      "execution_count": 57,
      "outputs": [
        {
          "output_type": "execute_result",
          "data": {
            "text/plain": [
              "<Figure size 432x288 with 1 Axes>"
            ],
            "image/png": "[encoded data removed]"
          },
          "metadata": {},
          "execution_count": 57
        },
        {
          "output_type": "display_data",
          "data": {
            "text/plain": [
              "<Figure size 432x288 with 1 Axes>"
            ],
            "image/png": "[encoded data removed]"
          },
          "metadata": {
            "needs_background": "light"
          }
        }
      ]
    },
    {
      "cell_type": "code",
      "source": [
        "plot_pacf(arima_resid)"
      ],
      "metadata": {
        "colab": {
          "base_uri": "https://localhost:8080/",
          "height": 559
        },
        "id": "09CLn0p29Sqy",
        "outputId": "6ba23fdc-4f43-4d55-c953-b6a460b77553"
      },
      "execution_count": 58,
      "outputs": [
        {
          "output_type": "execute_result",
          "data": {
            "text/plain": [
              "<Figure size 432x288 with 1 Axes>"
            ],
            "image/png": "[encoded data removed]"
          },
          "metadata": {},
          "execution_count": 58
        },
        {
          "output_type": "display_data",
          "data": {
            "text/plain": [
              "<Figure size 432x288 with 1 Axes>"
            ],
            "image/png": "[encoded data removed]"
          },
          "metadata": {
            "needs_background": "light"
          }
        }
      ]
    },
    {
      "cell_type": "markdown",
      "source": [
        "We see more spikes in further time periods (around 8 to 9) but we concede that this is going to be very far fom what might reasonably impact revenue (adding an MA or AR term at 9 lags suggests that the next day revenue is potentially affected by the last 9 days of revenue). We ignore this in favor of a simpler ARMA structure as we will now accommodate the GARCH component.\n",
        "\n",
        "Using the Weighted ARCH test by Engle, we see that there is significant heteroskedasticity in the resulting error term. This motivates our use of the GARCH model."
      ],
      "metadata": {
        "id": "Zf6KTGLHMROo"
      }
    },
    {
      "cell_type": "code",
      "source": [
        "het_arch(arima_resid) # returns LM stat, p-val, F stat, and p value"
      ],
      "metadata": {
        "colab": {
          "base_uri": "https://localhost:8080/"
        },
        "id": "JUImVyDr9V3r",
        "outputId": "61ca3e6e-a3ca-46ad-e6f4-24e5a48065ab"
      },
      "execution_count": 59,
      "outputs": [
        {
          "output_type": "stream",
          "name": "stderr",
          "text": [
            "/usr/local/lib/python3.7/dist-packages/statsmodels/stats/diagnostic.py:660: FutureWarning: The default value of nlags is changing.  After 0.12, this value will become min(10, nobs//5). Directly setmaxlags or period to silence this warning.\n",
            "  FutureWarning)\n"
          ]
        },
        {
          "output_type": "execute_result",
          "data": {
            "text/plain": [
              "(43.94662307163775,\n",
              " 0.00011209981134764948,\n",
              " 3.47542946244882,\n",
              " 3.2434329096946975e-05)"
            ]
          },
          "metadata": {},
          "execution_count": 59
        }
      ]
    },
    {
      "cell_type": "markdown",
      "source": [
        "The Weighted Ljung-Box test also suggests the possibility of continuing serial correlation, but once more we will return to this later after seeing the result of accounting for the GARCH errors."
      ],
      "metadata": {
        "id": "tsb5bpFYMmQW"
      }
    },
    {
      "cell_type": "code",
      "source": [
        "sm.stats.acorr_ljungbox(arima_resid)"
      ],
      "metadata": {
        "colab": {
          "base_uri": "https://localhost:8080/"
        },
        "id": "rhocsR7o92NO",
        "outputId": "d0d829ff-ae03-4133-85fb-321bb48fd8aa"
      },
      "execution_count": 60,
      "outputs": [
        {
          "output_type": "stream",
          "name": "stderr",
          "text": [
            "/usr/local/lib/python3.7/dist-packages/statsmodels/stats/diagnostic.py:533: FutureWarning: The default value of lags is changing.  After 0.12, this value will become min(10, nobs//5). Directly setlags to silence this warning.\n",
            "  \"lags to silence this warning.\", FutureWarning)\n",
            "/usr/local/lib/python3.7/dist-packages/statsmodels/stats/diagnostic.py:559: FutureWarning: The value returned will change to a single DataFrame after 0.12 is released.  Set return_df to True to use to return a DataFrame now.  Set return_df to False to silence this warning.\n",
            "  warnings.warn(msg, FutureWarning)\n"
          ]
        },
        {
          "output_type": "execute_result",
          "data": {
            "text/plain": [
              "(array([4.17286650e-03, 5.30904529e-01, 3.14193245e+00, 4.69627925e+00,\n",
              "        4.72900813e+00, 8.25077962e+00, 5.77913908e+01, 6.13131277e+01,\n",
              "        6.36113969e+01, 6.36564606e+01, 6.38088574e+01, 7.00960616e+01,\n",
              "        7.10086745e+01, 1.09790333e+02, 1.09793731e+02, 1.12277043e+02,\n",
              "        1.13103066e+02, 1.13158418e+02, 1.15662149e+02, 1.17491883e+02,\n",
              "        1.49821850e+02, 1.51381144e+02, 1.53620190e+02, 1.53630862e+02,\n",
              "        1.53854884e+02, 1.60716727e+02, 1.65093905e+02, 1.98703526e+02,\n",
              "        2.00725153e+02, 2.03062978e+02, 2.03826212e+02, 2.03831772e+02,\n",
              "        2.06206429e+02, 2.06606621e+02, 2.41228586e+02, 2.41228616e+02,\n",
              "        2.43014952e+02, 2.43239002e+02, 2.43321426e+02, 2.47510566e+02]),\n",
              " array([9.48494293e-01, 7.66859048e-01, 3.70255420e-01, 3.19903859e-01,\n",
              "        4.49839103e-01, 2.20300292e-01, 4.16029838e-10, 2.57388424e-10,\n",
              "        2.68506831e-10, 7.31924108e-10, 1.80378580e-09, 3.07316009e-10,\n",
              "        5.23151762e-10, 6.14370678e-17, 1.76644312e-16, 1.65341620e-16,\n",
              "        3.13775599e-16, 8.10024840e-16, 7.13895074e-16, 8.29301590e-16,\n",
              "        1.89847352e-21, 2.62557176e-21, 2.66687683e-21, 6.98740302e-21,\n",
              "        1.63584919e-20, 2.23874229e-21, 8.83456793e-22, 1.20572143e-27,\n",
              "        1.35775403e-27, 1.32160175e-27, 2.51218500e-27, 6.51516312e-27,\n",
              "        6.07146149e-27, 1.29821600e-26, 1.23466400e-32, 3.28012192e-32,\n",
              "        3.99658038e-32, 9.41648713e-32, 2.32671203e-31, 9.97775520e-32]))"
            ]
          },
          "metadata": {},
          "execution_count": 60
        }
      ]
    },
    {
      "cell_type": "markdown",
      "source": [
        "## Modeling Heteroskedasticity Using GARCH"
      ],
      "metadata": {
        "id": "RgbY_OkmN0ej"
      }
    },
    {
      "cell_type": "markdown",
      "source": [
        "Within the GARCH model, we are separately modeling the error term to account for a conditional variance $\\sigma_t$ in the error terms that's varying in time rather than fixed throughout the data coverage. The error term $\\varepsilon_t$ can be written as\n",
        "\n",
        "$$\n",
        "\\varepsilon_t = \\sigma_t w_t\n",
        "$$\n",
        "\n",
        "Which accounts for the heteroskedasticities in the model. Typically a GARCH(1,1) model is sufficient for most data, and we test that below."
      ],
      "metadata": {
        "id": "oRQDzh_aMy30"
      }
    },
    {
      "cell_type": "code",
      "source": [
        "garch_model = arch_model(arima_resid, vol = \"GARCH\", p = 1, q = 1, rescale = False)\n",
        "garch_fit = garch_model.fit()"
      ],
      "metadata": {
        "colab": {
          "base_uri": "https://localhost:8080/"
        },
        "id": "o-fkdE896a7o",
        "outputId": "55517570-f968-4a95-9913-4d442f7efcdb"
      },
      "execution_count": 61,
      "outputs": [
        {
          "output_type": "stream",
          "name": "stdout",
          "text": [
            "Iteration:      1,   Func. Count:      6,   Neg. LLF: 3017.5952727973163\n",
            "Iteration:      2,   Func. Count:     14,   Neg. LLF: 1806.814079011038\n",
            "Iteration:      3,   Func. Count:     20,   Neg. LLF: 1805.932391837059\n",
            "Iteration:      4,   Func. Count:     26,   Neg. LLF: 1805.0077582427612\n",
            "Iteration:      5,   Func. Count:     31,   Neg. LLF: 1805.00714475718\n",
            "Iteration:      6,   Func. Count:     36,   Neg. LLF: 1805.0033450001151\n",
            "Iteration:      7,   Func. Count:     41,   Neg. LLF: 1804.994813867144\n",
            "Iteration:      8,   Func. Count:     46,   Neg. LLF: 1804.971639943124\n",
            "Iteration:      9,   Func. Count:     51,   Neg. LLF: 1804.915746522439\n",
            "Iteration:     10,   Func. Count:     56,   Neg. LLF: 1804.784873611742\n",
            "Iteration:     11,   Func. Count:     61,   Neg. LLF: 1804.5262048861214\n",
            "Iteration:     12,   Func. Count:     66,   Neg. LLF: 1804.1287675561562\n",
            "Iteration:     13,   Func. Count:     71,   Neg. LLF: 1803.6481681455816\n",
            "Iteration:     14,   Func. Count:     76,   Neg. LLF: 1803.157660831881\n",
            "Iteration:     15,   Func. Count:     81,   Neg. LLF: 1803.0430634930344\n",
            "Iteration:     16,   Func. Count:     86,   Neg. LLF: 1803.027349660995\n",
            "Iteration:     17,   Func. Count:     91,   Neg. LLF: 1803.0263271680637\n",
            "Iteration:     18,   Func. Count:     96,   Neg. LLF: 1803.026314944897\n",
            "Iteration:     19,   Func. Count:    101,   Neg. LLF: 1803.026316287751\n",
            "Optimization terminated successfully    (Exit mode 0)\n",
            "            Current function value: 1803.0263149447082\n",
            "            Iterations: 19\n",
            "            Function evaluations: 111\n",
            "            Gradient evaluations: 19\n"
          ]
        }
      ]
    },
    {
      "cell_type": "code",
      "source": [
        "print(garch_fit.summary())"
      ],
      "metadata": {
        "colab": {
          "base_uri": "https://localhost:8080/"
        },
        "id": "97eGnTG1-HA5",
        "outputId": "5fa16d1f-5eab-4f52-b1e6-19e8a9f809c7"
      },
      "execution_count": 62,
      "outputs": [
        {
          "output_type": "stream",
          "name": "stdout",
          "text": [
            "                     Constant Mean - GARCH Model Results                      \n",
            "==============================================================================\n",
            "Dep. Variable:                   None   R-squared:                       0.000\n",
            "Mean Model:             Constant Mean   Adj. R-squared:                  0.000\n",
            "Vol Model:                      GARCH   Log-Likelihood:               -1803.03\n",
            "Distribution:                  Normal   AIC:                           3614.05\n",
            "Method:            Maximum Likelihood   BIC:                           3627.42\n",
            "                                        No. Observations:                  209\n",
            "Date:                Wed, Aug 03 2022   Df Residuals:                      208\n",
            "Time:                        16:04:24   Df Model:                            1\n",
            "                                 Mean Model                                \n",
            "===========================================================================\n",
            "                 coef    std err          t      P>|t|     95.0% Conf. Int.\n",
            "---------------------------------------------------------------------------\n",
            "mu          -167.8722     94.925     -1.768  7.698e-02 [-3.539e+02, 18.178]\n",
            "                               Volatility Model                              \n",
            "=============================================================================\n",
            "                 coef    std err          t      P>|t|       95.0% Conf. Int.\n",
            "-----------------------------------------------------------------------------\n",
            "omega      4.6907e+04  2.928e+04      1.602      0.109 [-1.048e+04,1.043e+05]\n",
            "alpha[1]       0.1159  4.201e-02      2.758  5.811e-03    [3.354e-02,  0.198]\n",
            "beta[1]        0.8667  2.858e-02     30.321 6.092e-202      [  0.811,  0.923]\n",
            "=============================================================================\n",
            "\n",
            "Covariance estimator: robust\n"
          ]
        }
      ]
    },
    {
      "cell_type": "markdown",
      "source": [
        "We are fitting this on the error term of the ARIMA model we just showed. This means that the fluctuation in $\\varepsilon_t$ contains a further adjustment in mean,\n",
        "\n",
        "$$\n",
        "\\varepsilon_t = -167.8722 + \\sigma_t w_t\n",
        "$$\n",
        "\n",
        "Where the conditional variance $\\sigma_t$ is modeled further as\n",
        "\n",
        "$$\n",
        "\\sigma^2_t = 0.00046907 + 0.1159 \\varepsilon^2_t + 0.8667 \\sigma^2_t\n",
        "$$"
      ],
      "metadata": {
        "id": "r_tAY2ftNdVT"
      }
    },
    {
      "cell_type": "markdown",
      "source": [
        "Because this already accounts for the heteroskedasticity in the ARIMA errors obtained earlier, the GARCH error $w_t$ should already be free of heteroskedasticity. We test this again using the Weighted ARCH test, which no longer returns a significant result."
      ],
      "metadata": {
        "id": "PKrKo91nO8yz"
      }
    },
    {
      "cell_type": "code",
      "source": [
        "garch_fit.arch_lm_test(lags = 1, standardized = True)"
      ],
      "metadata": {
        "colab": {
          "base_uri": "https://localhost:8080/"
        },
        "id": "DFTkNHTiEakp",
        "outputId": "7919577d-bcdb-4e5a-8f59-5095b18cc8d2"
      },
      "execution_count": 63,
      "outputs": [
        {
          "output_type": "execute_result",
          "data": {
            "text/plain": [
              "ARCH-LM Test\n",
              "H0: Standardized residuals are homoskedastic.\n",
              "ARCH-LM Test\n",
              "H1: Standardized residuals are conditionally heteroskedastic.\n",
              "Statistic: 0.0050\n",
              "P-value: 0.9435\n",
              "Distributed: chi2(1)\n",
              "WaldTestStatistic, id: 0x7fd92e0c14d0"
            ]
          },
          "metadata": {},
          "execution_count": 63
        }
      ]
    },
    {
      "cell_type": "markdown",
      "source": [
        "Likewise, the Weighted Ljung-Box test no longer returns significant p-values for any of the lags (except for lags 7 and 8, which we consider too far in time to be meaningful)."
      ],
      "metadata": {
        "id": "BJrxZEu9PMBh"
      }
    },
    {
      "cell_type": "code",
      "source": [
        "garch_resid = garch_fit.resid\n",
        "sm.stats.acorr_ljungbox(garch_resid)"
      ],
      "metadata": {
        "colab": {
          "base_uri": "https://localhost:8080/"
        },
        "id": "KlS8aQ8s-nEC",
        "outputId": "924ef0c1-1005-409b-f9af-4ba9f277d33a"
      },
      "execution_count": 64,
      "outputs": [
        {
          "output_type": "stream",
          "name": "stderr",
          "text": [
            "/usr/local/lib/python3.7/dist-packages/statsmodels/stats/diagnostic.py:533: FutureWarning: The default value of lags is changing.  After 0.12, this value will become min(10, nobs//5). Directly setlags to silence this warning.\n",
            "  \"lags to silence this warning.\", FutureWarning)\n",
            "/usr/local/lib/python3.7/dist-packages/statsmodels/stats/diagnostic.py:559: FutureWarning: The value returned will change to a single DataFrame after 0.12 is released.  Set return_df to True to use to return a DataFrame now.  Set return_df to False to silence this warning.\n",
            "  warnings.warn(msg, FutureWarning)\n"
          ]
        },
        {
          "output_type": "execute_result",
          "data": {
            "text/plain": [
              "(array([4.17286650e-03, 5.30904529e-01, 3.14193245e+00, 4.69627925e+00,\n",
              "        4.72900813e+00, 8.25077962e+00, 5.77913908e+01, 6.13131277e+01,\n",
              "        6.36113969e+01, 6.36564606e+01, 6.38088574e+01, 7.00960616e+01,\n",
              "        7.10086745e+01, 1.09790333e+02, 1.09793731e+02, 1.12277043e+02,\n",
              "        1.13103066e+02, 1.13158418e+02, 1.15662149e+02, 1.17491883e+02,\n",
              "        1.49821850e+02, 1.51381144e+02, 1.53620190e+02, 1.53630862e+02,\n",
              "        1.53854884e+02, 1.60716727e+02, 1.65093905e+02, 1.98703526e+02,\n",
              "        2.00725153e+02, 2.03062978e+02, 2.03826212e+02, 2.03831772e+02,\n",
              "        2.06206429e+02, 2.06606621e+02, 2.41228586e+02, 2.41228616e+02,\n",
              "        2.43014952e+02, 2.43239002e+02, 2.43321426e+02, 2.47510566e+02]),\n",
              " array([9.48494293e-01, 7.66859048e-01, 3.70255420e-01, 3.19903859e-01,\n",
              "        4.49839103e-01, 2.20300292e-01, 4.16029838e-10, 2.57388424e-10,\n",
              "        2.68506831e-10, 7.31924108e-10, 1.80378580e-09, 3.07316009e-10,\n",
              "        5.23151762e-10, 6.14370678e-17, 1.76644312e-16, 1.65341620e-16,\n",
              "        3.13775599e-16, 8.10024840e-16, 7.13895074e-16, 8.29301590e-16,\n",
              "        1.89847352e-21, 2.62557176e-21, 2.66687683e-21, 6.98740302e-21,\n",
              "        1.63584919e-20, 2.23874229e-21, 8.83456793e-22, 1.20572143e-27,\n",
              "        1.35775403e-27, 1.32160175e-27, 2.51218500e-27, 6.51516312e-27,\n",
              "        6.07146149e-27, 1.29821600e-26, 1.23466400e-32, 3.28012192e-32,\n",
              "        3.99658038e-32, 9.41648713e-32, 2.32671203e-31, 9.97775520e-32]))"
            ]
          },
          "metadata": {},
          "execution_count": 64
        }
      ]
    },
    {
      "cell_type": "markdown",
      "source": [
        "The spike in the ACF/PACF plot for time period 2 that we saw also after modeling ARIMA no longer appears in the ACF/PACF plot after GARCH."
      ],
      "metadata": {
        "id": "qF17ooZlPXQr"
      }
    },
    {
      "cell_type": "code",
      "source": [
        "plot_acf(garch_resid)"
      ],
      "metadata": {
        "colab": {
          "base_uri": "https://localhost:8080/",
          "height": 559
        },
        "id": "KsMbkJCrBICo",
        "outputId": "01d50a94-3649-41d0-aba8-eba735373f1d"
      },
      "execution_count": 65,
      "outputs": [
        {
          "output_type": "execute_result",
          "data": {
            "text/plain": [
              "<Figure size 432x288 with 1 Axes>"
            ],
            "image/png": "[encoded data removed]"
          },
          "metadata": {},
          "execution_count": 65
        },
        {
          "output_type": "display_data",
          "data": {
            "text/plain": [
              "<Figure size 432x288 with 1 Axes>"
            ],
            "image/png": "[encoded data removed]"
          },
          "metadata": {
            "needs_background": "light"
          }
        }
      ]
    },
    {
      "cell_type": "code",
      "source": [
        "plot_pacf(garch_resid)"
      ],
      "metadata": {
        "colab": {
          "base_uri": "https://localhost:8080/",
          "height": 559
        },
        "id": "p6C8ZUWDBLVI",
        "outputId": "aff09371-f9cc-4a61-e87c-d250b96714a9"
      },
      "execution_count": 66,
      "outputs": [
        {
          "output_type": "execute_result",
          "data": {
            "text/plain": [
              "<Figure size 432x288 with 1 Axes>"
            ],
            "image/png": "[encoded data removed]"
          },
          "metadata": {},
          "execution_count": 66
        },
        {
          "output_type": "display_data",
          "data": {
            "text/plain": [
              "<Figure size 432x288 with 1 Axes>"
            ],
            "image/png": "[encoded data removed]"
          },
          "metadata": {
            "needs_background": "light"
          }
        }
      ]
    },
    {
      "cell_type": "markdown",
      "source": [
        "## Forecasting Future Revenue"
      ],
      "metadata": {
        "id": "bsD288x9N41q"
      }
    },
    {
      "cell_type": "markdown",
      "source": [
        "Now that we have a working model for the daily revenue, we can finally produce the forecast. We will forecast the expected revenue for the next day. First we forecast the average returns for the ARIMA model."
      ],
      "metadata": {
        "id": "kG-VY9NOPd0v"
      }
    },
    {
      "cell_type": "code",
      "source": [
        "arima_fit.forecast(1)"
      ],
      "metadata": {
        "colab": {
          "base_uri": "https://localhost:8080/"
        },
        "id": "olbIz0YMFJBP",
        "outputId": "38f3ab8c-34e0-488c-da5e-ed51e1cf4067"
      },
      "execution_count": 67,
      "outputs": [
        {
          "output_type": "execute_result",
          "data": {
            "text/plain": [
              "209    3435.909292\n",
              "dtype: float64"
            ]
          },
          "metadata": {},
          "execution_count": 67
        }
      ]
    },
    {
      "cell_type": "markdown",
      "source": [
        "After the ARIMA forecast, we also forecast the error terms through the GARCH model."
      ],
      "metadata": {
        "id": "erNkzQO3Ptv5"
      }
    },
    {
      "cell_type": "code",
      "source": [
        "garch_forecast = garch_fit.forecast(horizon = 1, reindex = False)\n",
        "garch_forecast.mean"
      ],
      "metadata": {
        "colab": {
          "base_uri": "https://localhost:8080/",
          "height": 81
        },
        "id": "HcBVFBwcFoH3",
        "outputId": "2c6ab66f-356c-4665-efad-8f3e8c2fed2b"
      },
      "execution_count": 68,
      "outputs": [
        {
          "output_type": "execute_result",
          "data": {
            "text/plain": [
              "            h.1\n",
              "208 -167.872193"
            ],
            "text/html": [
              "\n",
              "  <div id=\"df-2c804e07-6988-42f4-a682-2402c6054156\">\n",
              "    <div class=\"colab-df-container\">\n",
              "      <div>\n",
              "<style scoped>\n",
              "    .dataframe tbody tr th:only-of-type {\n",
              "        vertical-align: middle;\n",
              "    }\n",
              "\n",
              "    .dataframe tbody tr th {\n",
              "        vertical-align: top;\n",
              "    }\n",
              "\n",
              "    .dataframe thead th {\n",
              "        text-align: right;\n",
              "    }\n",
              "</style>\n",
              "<table border=\"1\" class=\"dataframe\">\n",
              "  <thead>\n",
              "    <tr style=\"text-align: right;\">\n",
              "      <th></th>\n",
              "      <th>h.1</th>\n",
              "    </tr>\n",
              "  </thead>\n",
              "  <tbody>\n",
              "    <tr>\n",
              "      <th>208</th>\n",
              "      <td>-167.872193</td>\n",
              "    </tr>\n",
              "  </tbody>\n",
              "</table>\n",
              "</div>\n",
              "      <button class=\"colab-df-convert\" onclick=\"convertToInteractive('df-2c804e07-6988-42f4-a682-2402c6054156')\"\n",
              "              title=\"Convert this dataframe to an interactive table.\"\n",
              "              style=\"display:none;\">\n",
              "        \n",
              "  <svg xmlns=\"http://www.w3.org/2000/svg\" height=\"24px\"viewBox=\"0 0 24 24\"\n",
              "       width=\"24px\">\n",
              "    <path d=\"M0 0h24v24H0V0z\" fill=\"none\"/>\n",
              "    <path d=\"M18.56 5.44l.94 2.06.94-2.06 2.06-.94-2.06-.94-.94-2.06-.94 2.06-2.06.94zm-11 1L8.5 8.5l.94-2.06 2.06-.94-2.06-.94L8.5 2.5l-.94 2.06-2.06.94zm10 10l.94 2.06.94-2.06 2.06-.94-2.06-.94-.94-2.06-.94 2.06-2.06.94z\"/><path d=\"M17.41 7.96l-1.37-1.37c-.4-.4-.92-.59-1.43-.59-.52 0-1.04.2-1.43.59L10.3 9.45l-7.72 7.72c-.78.78-.78 2.05 0 2.83L4 21.41c.39.39.9.59 1.41.59.51 0 1.02-.2 1.41-.59l7.78-7.78 2.81-2.81c.8-.78.8-2.07 0-2.86zM5.41 20L4 18.59l7.72-7.72 1.47 1.35L5.41 20z\"/>\n",
              "  </svg>\n",
              "      </button>\n",
              "      \n",
              "  <style>\n",
              "    .colab-df-container {\n",
              "      display:flex;\n",
              "      flex-wrap:wrap;\n",
              "      gap: 12px;\n",
              "    }\n",
              "\n",
              "    .colab-df-convert {\n",
              "      background-color: #E8F0FE;\n",
              "      border: none;\n",
              "      border-radius: 50%;\n",
              "      cursor: pointer;\n",
              "      display: none;\n",
              "      fill: #1967D2;\n",
              "      height: 32px;\n",
              "      padding: 0 0 0 0;\n",
              "      width: 32px;\n",
              "    }\n",
              "\n",
              "    .colab-df-convert:hover {\n",
              "      background-color: #E2EBFA;\n",
              "      box-shadow: 0px 1px 2px rgba(60, 64, 67, 0.3), 0px 1px 3px 1px rgba(60, 64, 67, 0.15);\n",
              "      fill: #174EA6;\n",
              "    }\n",
              "\n",
              "    [theme=dark] .colab-df-convert {\n",
              "      background-color: #3B4455;\n",
              "      fill: #D2E3FC;\n",
              "    }\n",
              "\n",
              "    [theme=dark] .colab-df-convert:hover {\n",
              "      background-color: #434B5C;\n",
              "      box-shadow: 0px 1px 3px 1px rgba(0, 0, 0, 0.15);\n",
              "      filter: drop-shadow(0px 1px 2px rgba(0, 0, 0, 0.3));\n",
              "      fill: #FFFFFF;\n",
              "    }\n",
              "  </style>\n",
              "\n",
              "      <script>\n",
              "        const buttonEl =\n",
              "          document.querySelector('#df-2c804e07-6988-42f4-a682-2402c6054156 button.colab-df-convert');\n",
              "        buttonEl.style.display =\n",
              "          google.colab.kernel.accessAllowed ? 'block' : 'none';\n",
              "\n",
              "        async function convertToInteractive(key) {\n",
              "          const element = document.querySelector('#df-2c804e07-6988-42f4-a682-2402c6054156');\n",
              "          const dataTable =\n",
              "            await google.colab.kernel.invokeFunction('convertToInteractive',\n",
              "                                                     [key], {});\n",
              "          if (!dataTable) return;\n",
              "\n",
              "          const docLinkHtml = 'Like what you see? Visit the ' +\n",
              "            '<a target=\"_blank\" href=https://colab.research.google.com/notebooks/data_table.ipynb>data table notebook</a>'\n",
              "            + ' to learn more about interactive tables.';\n",
              "          element.innerHTML = '';\n",
              "          dataTable['output_type'] = 'display_data';\n",
              "          await google.colab.output.renderOutput(dataTable, element);\n",
              "          const docLink = document.createElement('div');\n",
              "          docLink.innerHTML = docLinkHtml;\n",
              "          element.appendChild(docLink);\n",
              "        }\n",
              "      </script>\n",
              "    </div>\n",
              "  </div>\n",
              "  "
            ]
          },
          "metadata": {},
          "execution_count": 68
        }
      ]
    },
    {
      "cell_type": "markdown",
      "source": [
        "The ARIMA terms plus the GARCH errors produces our forecast for the next ten days. From this forecast we can see that we are expecting a revenue of 3,348.88 SGD on the first day after the last record in the data, which is for June 30. After that, for the next nine days we are expecting revenue of about 3,057.66 SGD, but again this will have to be adjusted given the autocorrelated nature of revenue as observed through the ARIMA and GARCH models."
      ],
      "metadata": {
        "id": "muPLVm7gP31J"
      }
    },
    {
      "cell_type": "code",
      "source": [
        "garch_et = pd.DataFrame(garch_forecast.mean).transpose().reset_index().iloc[:,1]\n",
        "\n",
        "arima_forecast = arima_fit.forecast(1)\n",
        "arima_mean = arima_forecast.reset_index().iloc[:,1]\n",
        "\n",
        "garch_forecast = arima_mean + garch_et\n",
        "garch_forecast"
      ],
      "metadata": {
        "colab": {
          "base_uri": "https://localhost:8080/"
        },
        "id": "neCjSx_MG-57",
        "outputId": "aefe3ed0-9c9a-4c3b-92a6-ac755e7b385c"
      },
      "execution_count": 69,
      "outputs": [
        {
          "output_type": "execute_result",
          "data": {
            "text/plain": [
              "0    3268.037099\n",
              "dtype: float64"
            ]
          },
          "metadata": {},
          "execution_count": 69
        }
      ]
    },
    {
      "cell_type": "markdown",
      "source": [
        "We note that this is definitely much closer to our original forecast from before. We can look into the MAPE as well. MAPE for the simple averaging method was 32%. For the ARIMA-GARCH Model, this is:"
      ],
      "metadata": {
        "id": "_zlikHynb7US"
      }
    },
    {
      "cell_type": "code",
      "source": [
        "np.absolute((garch_forecast - test_data.revenue.reset_index().iloc[:,1])/test_data.revenue.reset_index().iloc[:,1])"
      ],
      "metadata": {
        "colab": {
          "base_uri": "https://localhost:8080/"
        },
        "id": "HTGvNsRRKsEH",
        "outputId": "09421785-332f-4ed7-9430-3d7064b54ad6"
      },
      "execution_count": 70,
      "outputs": [
        {
          "output_type": "execute_result",
          "data": {
            "text/plain": [
              "0    0.202859\n",
              "dtype: float64"
            ]
          },
          "metadata": {},
          "execution_count": 70
        }
      ]
    },
    {
      "cell_type": "markdown",
      "source": [
        "Our MAPE is now 20%. We have been able to reduce our error from 32% down by 12% with a simple model. Proper tuning of the model and more data to use in production would allow us to further shave that off and obtain even more accurate results. We can see therefore how this approach will be quite beneficial for improving our estimate of revenue. With this improved knowledge of our expected future revenue, we can plan ahead with much better accuracy other parameters of operations, including manpower costing and perhaps intraday strategies, to help optimize profit."
      ],
      "metadata": {
        "id": "3TvgjVyqdg-m"
      }
    },
    {
      "cell_type": "code",
      "source": [
        ""
      ],
      "metadata": {
        "id": "9lRQ4G0Yd492"
      },
      "execution_count": null,
      "outputs": []
    }
  ]
}